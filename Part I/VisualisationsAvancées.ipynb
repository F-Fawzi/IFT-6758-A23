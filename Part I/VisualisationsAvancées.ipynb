{
 "cells": [
  {
   "cell_type": "markdown",
   "metadata": {},
   "source": [
    "# Visualisations avancées"
   ]
  },
  {
   "cell_type": "markdown",
   "metadata": {},
   "source": [
    "### Part 1: transformation donnée"
   ]
  },
  {
   "cell_type": "code",
   "execution_count": 5,
   "metadata": {},
   "outputs": [
    {
     "name": "stdout",
     "output_type": "stream",
     "text": [
      "The autoreload extension is already loaded. To reload it, use:\n",
      "  %reload_ext autoreload\n"
     ]
    }
   ],
   "source": [
    "%load_ext autoreload\n",
    "%autoreload 2"
   ]
  },
  {
   "cell_type": "code",
   "execution_count": 6,
   "metadata": {},
   "outputs": [],
   "source": [
    "#Import library\n",
    "import matplotlib.pyplot as plt\n",
    "import seaborn as sns\n",
    "import pandas as pd\n",
    "import numpy as np\n",
    "from dateutil.parser import parse\n",
    "from scipy.interpolate import griddata\n",
    "# import dash\n",
    "# from dash import dcc\n",
    "# from dash import html\n",
    "# from dash.dependencies import Input, Output\n",
    "from scipy.stats import gaussian_kde\n",
    "import matplotlib.pyplot as plt\n",
    "import io\n",
    "import base64\n",
    "from PIL import Image\n",
    "import pandas as pd"
   ]
  },
  {
   "cell_type": "code",
   "execution_count": 19,
   "metadata": {},
   "outputs": [],
   "source": [
    "# Liste des années pour lesquelles vous avez des fichiers CSV\n",
    "annees = [2016, 2017,2018, 2019,2020,2021]\n",
    "\n",
    "# Créez une liste pour stocker les DataFrames de chaque année\n",
    "dataframes_par_annee = []\n",
    "\n",
    "for annee in annees:\n",
    "    # Chargez le fichier CSV de chaque année\n",
    "    file_path = f\"/Users/ceciliaacosta/IFT-DATASCIENCE/MILESTONE1_local/cleaned_data/{annee}.csv\"  # Remplacez par le chemin réel\n",
    "    df_annee = pd.read_csv(file_path)\n",
    "    dataframes_par_annee.append(df_annee)\n",
    "\n",
    "# Concaténez les DataFrames en un seul\n",
    "nhl_data = pd.concat(dataframes_par_annee, ignore_index=True)"
   ]
  },
  {
   "cell_type": "code",
   "execution_count": 23,
   "metadata": {},
   "outputs": [
    {
     "name": "stdout",
     "output_type": "stream",
     "text": [
      "Index(['Unnamed: 0', 'about.period', 'about.dateTime', 'team.name',\n",
      "       'result.eventTypeId', 'coordinates.x', 'coordinates.y',\n",
      "       'result.secondaryType', 'result.emptyNet', 'result.strength.name',\n",
      "       'player.fullName_Scorer', 'player.fullName_goalie', 'ID_game',\n",
      "       'Game_type'],\n",
      "      dtype='object')\n"
     ]
    }
   ],
   "source": [
    "nhl_data_tr=nhl_data.copy()\n",
    "nhl_data_tr['about.dateTime'] = nhl_data_tr['about.dateTime'].apply(lambda x: parse(x).year)"
   ]
  },
  {
   "cell_type": "code",
   "execution_count": 21,
   "metadata": {},
   "outputs": [],
   "source": [
    "from PIL import Image\n",
    "\n",
    "# Open the image\n",
    "image = Image.open('/Users/ceciliaacosta/IFT-DATASCIENCE/MILESTONE1_local/nhl_rink.png')\n",
    "# Get the dimensions of the original image\n",
    "width, height = image.size\n",
    "# Calculate the coordinates for cropping\n",
    "left = 0\n",
    "top = 0\n",
    "right = width / 2\n",
    "bottom = height\n",
    "# Crop the left half\n",
    "left_half = image.crop((left, top, right, bottom))\n",
    "left_half.save('left_half.png')"
   ]
  },
  {
   "cell_type": "code",
   "execution_count": 24,
   "metadata": {},
   "outputs": [],
   "source": [
    "df = nhl_data_tr.copy() \n",
    "condition = df['coordinates.x'] < 0 \n",
    "df.loc[condition, ['coordinates.x', 'coordinates.y']] *= -1\n",
    "df['coordinates.x'] = abs(df['coordinates.x'] - 89)"
   ]
  },
  {
   "cell_type": "markdown",
   "metadata": {},
   "source": [
    "### Step two : calculate the compute aggregate statistics of shot locations across the entire league to calculate the league average shot rate per hour"
   ]
  },
  {
   "cell_type": "code",
   "execution_count": 47,
   "metadata": {},
   "outputs": [
    {
     "data": {
      "text/html": [
       "<div>\n",
       "<style scoped>\n",
       "    .dataframe tbody tr th:only-of-type {\n",
       "        vertical-align: middle;\n",
       "    }\n",
       "\n",
       "    .dataframe tbody tr th {\n",
       "        vertical-align: top;\n",
       "    }\n",
       "\n",
       "    .dataframe thead th {\n",
       "        text-align: right;\n",
       "    }\n",
       "</style>\n",
       "<table border=\"1\" class=\"dataframe\">\n",
       "  <thead>\n",
       "    <tr style=\"text-align: right;\">\n",
       "      <th></th>\n",
       "      <th></th>\n",
       "      <th>coord_rate_shots</th>\n",
       "    </tr>\n",
       "    <tr>\n",
       "      <th>coordinates.x</th>\n",
       "      <th>coordinates.y</th>\n",
       "      <th></th>\n",
       "    </tr>\n",
       "  </thead>\n",
       "  <tbody>\n",
       "    <tr>\n",
       "      <th rowspan=\"5\" valign=\"top\">0.0</th>\n",
       "      <th>-40.0</th>\n",
       "      <td>0.000132</td>\n",
       "    </tr>\n",
       "    <tr>\n",
       "      <th>-39.0</th>\n",
       "      <td>0.000132</td>\n",
       "    </tr>\n",
       "    <tr>\n",
       "      <th>-38.0</th>\n",
       "      <td>0.000132</td>\n",
       "    </tr>\n",
       "    <tr>\n",
       "      <th>-37.0</th>\n",
       "      <td>0.000263</td>\n",
       "    </tr>\n",
       "    <tr>\n",
       "      <th>-36.0</th>\n",
       "      <td>0.000132</td>\n",
       "    </tr>\n",
       "    <tr>\n",
       "      <th>...</th>\n",
       "      <th>...</th>\n",
       "      <td>...</td>\n",
       "    </tr>\n",
       "    <tr>\n",
       "      <th rowspan=\"5\" valign=\"top\">89.0</th>\n",
       "      <th>38.0</th>\n",
       "      <td>0.001053</td>\n",
       "    </tr>\n",
       "    <tr>\n",
       "      <th>39.0</th>\n",
       "      <td>0.001317</td>\n",
       "    </tr>\n",
       "    <tr>\n",
       "      <th>40.0</th>\n",
       "      <td>0.000922</td>\n",
       "    </tr>\n",
       "    <tr>\n",
       "      <th>41.0</th>\n",
       "      <td>0.000527</td>\n",
       "    </tr>\n",
       "    <tr>\n",
       "      <th>42.0</th>\n",
       "      <td>0.000132</td>\n",
       "    </tr>\n",
       "  </tbody>\n",
       "</table>\n",
       "<p>7483 rows × 1 columns</p>\n",
       "</div>"
      ],
      "text/plain": [
       "                             coord_rate_shots\n",
       "coordinates.x coordinates.y                  \n",
       "0.0           -40.0                  0.000132\n",
       "              -39.0                  0.000132\n",
       "              -38.0                  0.000132\n",
       "              -37.0                  0.000263\n",
       "              -36.0                  0.000132\n",
       "...                                       ...\n",
       "89.0           38.0                  0.001053\n",
       "               39.0                  0.001317\n",
       "               40.0                  0.000922\n",
       "               41.0                  0.000527\n",
       "               42.0                  0.000132\n",
       "\n",
       "[7483 rows x 1 columns]"
      ]
     },
     "execution_count": 47,
     "metadata": {},
     "output_type": "execute_result"
    }
   ],
   "source": [
    "# Define the rink dimensions \n",
    "rink_width_feet = 85  # Width of the rink in feet\n",
    "rink_length_feet = 200  # Length of the rink in feet\n",
    "\n",
    "def shotrate_per_location(df):\n",
    "    # Calculate the league average shot rate per hour across all locations\n",
    "    total_games = df['ID_game'].nunique()\n",
    "\n",
    "    # Total shots per location \n",
    "    ser_total_shots= df.groupby(['coordinates.x', 'coordinates.y']).count()\n",
    "    df_total_shots=pd.DataFrame(ser_total_shots['ID_game'])\n",
    "    df_total_shots=df_total_shots.rename(columns={'ID_game':'coord_total_shots'})\n",
    "\n",
    "    # Calculate the rate per hour of the shots per location\n",
    "    df_rate_shots=df_total_shots.copy()\n",
    "    df_rate_shots['coord_total_shots'] = df_rate_shots['coord_total_shots'].apply(lambda x: x / total_games) # We assume a game is 1 hour long\n",
    "    # We assume a game is 1 hour long\n",
    "    df_rate_shots.rename(columns={'coord_total_shots':'coord_rate_shots'})\n",
    "\n",
    "    return df_rate_shots\n"
   ]
  },
  {
   "cell_type": "markdown",
   "metadata": {},
   "source": [
    "### Compute the excess rate for a specific team and season:"
   ]
  },
  {
   "cell_type": "code",
   "execution_count": null,
   "metadata": {},
   "outputs": [],
   "source": [
    "def excess_for_team(teamdf:pd.DataFrame, acrossteam:pd.DataFrame):\n",
    "    \"\"\"\n",
    "    This function calculates the excess of shots for a team in a given location\n",
    "    \"\"\"\n",
    "    teamdf=teamdf.copy()\n",
    "    acrossteam=acrossteam.copy()\n",
    "    teamdf=shotrate_per_location(teamdf) # Only shots for a team\n",
    "    acrossteam=shotrate_per_location(acrossteam) # Shots accross all teams\n",
    "\n",
    "    # Calculate the excess of shots for a team in a given location\n",
    "    teamdf['excess_shots']=teamdf['coord_rate_shots']-acrossteam['coord_rate_shots']\n",
    "    return teamdf\n",
    "\n",
    "pass"
   ]
  },
  {
   "cell_type": "code",
   "execution_count": 18,
   "metadata": {},
   "outputs": [
    {
     "ename": "ValueError",
     "evalue": "different number of values and points",
     "output_type": "error",
     "traceback": [
      "\u001b[0;31m---------------------------------------------------------------------------\u001b[0m",
      "\u001b[0;31mValueError\u001b[0m                                Traceback (most recent call last)",
      "\u001b[1;32m/Users/ceciliaacosta/Downloads/VisualisationsAvancees_copy.ipynb Cell 14\u001b[0m line \u001b[0;36m1\n\u001b[1;32m     <a href='vscode-notebook-cell:/Users/ceciliaacosta/Downloads/VisualisationsAvancees_copy.ipynb#X15sZmlsZQ%3D%3D?line=9'>10</a>\u001b[0m \u001b[39m# Evaluate the KDE on the mesh grid to get the estimated density values\u001b[39;00m\n\u001b[1;32m     <a href='vscode-notebook-cell:/Users/ceciliaacosta/Downloads/VisualisationsAvancees_copy.ipynb#X15sZmlsZQ%3D%3D?line=11'>12</a>\u001b[0m positions \u001b[39m=\u001b[39m np\u001b[39m.\u001b[39mvstack([x\u001b[39m.\u001b[39mravel(), y\u001b[39m.\u001b[39mravel()])\n\u001b[0;32m---> <a href='vscode-notebook-cell:/Users/ceciliaacosta/Downloads/VisualisationsAvancees_copy.ipynb#X15sZmlsZQ%3D%3D?line=13'>14</a>\u001b[0m z\u001b[39m=\u001b[39mgriddata((np\u001b[39m.\u001b[39mabs(shot_data[\u001b[39m'\u001b[39m\u001b[39mcoordinates.x\u001b[39m\u001b[39m'\u001b[39m]), shot_data[\u001b[39m'\u001b[39m\u001b[39mcoordinates.y\u001b[39m\u001b[39m'\u001b[39m]), merged_data[\u001b[39m'\u001b[39m\u001b[39mexcess_shot_rate\u001b[39m\u001b[39m'\u001b[39m], positions, method\u001b[39m=\u001b[39m\u001b[39m'\u001b[39m\u001b[39mcubic\u001b[39m\u001b[39m'\u001b[39m, fill_value\u001b[39m=\u001b[39m\u001b[39m0\u001b[39m)\n\u001b[1;32m     <a href='vscode-notebook-cell:/Users/ceciliaacosta/Downloads/VisualisationsAvancees_copy.ipynb#X15sZmlsZQ%3D%3D?line=14'>15</a>\u001b[0m z\u001b[39m=\u001b[39mpd\u001b[39m.\u001b[39mDataFrame(z)\u001b[39m*\u001b[39m\u001b[39m100\u001b[39m\n\u001b[1;32m     <a href='vscode-notebook-cell:/Users/ceciliaacosta/Downloads/VisualisationsAvancees_copy.ipynb#X15sZmlsZQ%3D%3D?line=15'>16</a>\u001b[0m zsmooth\u001b[39m=\u001b[39mgaussian_filter(z, sigma\u001b[39m=\u001b[39m\u001b[39m6\u001b[39m)\n",
      "File \u001b[0;32m~/miniconda3/envs/ift-6758/lib/python3.11/site-packages/scipy/interpolate/_ndgriddata.py:277\u001b[0m, in \u001b[0;36mgriddata\u001b[0;34m(points, values, xi, method, fill_value, rescale)\u001b[0m\n\u001b[1;32m    275\u001b[0m     \u001b[39mreturn\u001b[39;00m ip(xi)\n\u001b[1;32m    276\u001b[0m \u001b[39melif\u001b[39;00m method \u001b[39m==\u001b[39m \u001b[39m'\u001b[39m\u001b[39mcubic\u001b[39m\u001b[39m'\u001b[39m \u001b[39mand\u001b[39;00m ndim \u001b[39m==\u001b[39m \u001b[39m2\u001b[39m:\n\u001b[0;32m--> 277\u001b[0m     ip \u001b[39m=\u001b[39m CloughTocher2DInterpolator(points, values, fill_value\u001b[39m=\u001b[39mfill_value,\n\u001b[1;32m    278\u001b[0m                                     rescale\u001b[39m=\u001b[39mrescale)\n\u001b[1;32m    279\u001b[0m     \u001b[39mreturn\u001b[39;00m ip(xi)\n\u001b[1;32m    280\u001b[0m \u001b[39melse\u001b[39;00m:\n",
      "File \u001b[0;32minterpnd.pyx:912\u001b[0m, in \u001b[0;36mscipy.interpolate.interpnd.CloughTocher2DInterpolator.__init__\u001b[0;34m()\u001b[0m\n",
      "File \u001b[0;32minterpnd.pyx:79\u001b[0m, in \u001b[0;36mscipy.interpolate.interpnd.NDInterpolatorBase.__init__\u001b[0;34m()\u001b[0m\n",
      "File \u001b[0;32minterpnd.pyx:193\u001b[0m, in \u001b[0;36mscipy.interpolate.interpnd._check_init_shape\u001b[0;34m()\u001b[0m\n",
      "\u001b[0;31mValueError\u001b[0m: different number of values and points"
     ]
    }
   ],
   "source": [
    "from scipy.ndimage import gaussian_filter\n",
    "from matplotlib import image as mpimg\n",
    "\n",
    "# Create a KDE (Kernel Density Estimation) for shot data using a Gaussian kernel\n",
    "shot_coordinates = np.vstack([np.abs(shot_data['coordinates.x']), shot_data['coordinates.y']])\n",
    "\n",
    "# Create a mesh grid for plotting\n",
    "x, y = np.meshgrid(np.linspace(0,90,91),\n",
    "                   np.linspace(-42.5,42.5,81))\n",
    "# Evaluate the KDE on the mesh grid to get the estimated density values\n",
    "\n",
    "positions = np.vstack([x.ravel(), y.ravel()])\n",
    "\n",
    "z=griddata((np.abs(shot_data['coordinates.x']), shot_data['coordinates.y']),, positions, method='cubic', fill_value=0)\n",
    "z=pd.DataFrame(z)*100\n",
    "zsmooth=gaussian_filter(z, sigma=6)\n",
    "\n",
    "\n",
    "rink_image = mpimg.imread('left_half.png')  # Replace with the path to your image\n",
    "fig, ax = plt.subplots()\n",
    "# Display the rink image in the background\n",
    "ax.imshow(rink_image, origin='lower', extent=[0, 100, -21.25, 21.25])\n",
    "contour = ax.contourf(x, y, zsmooth, cmap='viridis', levels=20, alpha=0.7, origin='lower', cmin=0, cmax=merged_data['excess_shot_rate'].max())\n",
    "cbar = plt.colorbar(contour, ax=ax, orientation='vertical', label='Excess Shot Rate')\n",
    "plt.title('Shot Density Map')\n",
    "plt.show()\n"
   ]
  },
  {
   "cell_type": "markdown",
   "metadata": {},
   "source": [
    "# Test widget"
   ]
  },
  {
   "cell_type": "code",
   "execution_count": null,
   "metadata": {},
   "outputs": [],
   "source": [
    "with open('left_half.png', \"rb\") as image_file:\n",
    "    encoded_image = base64.b64encode(image_file.read()).decode(\"utf-8\")\n",
    "img = Image.open(io.BytesIO(base64.b64decode(encoded_image)))\n",
    "ommg=img.rotate(90)\n",
    "ommg.save('nhl_rinkk.png')\n"
   ]
  },
  {
   "cell_type": "code",
   "execution_count": null,
   "metadata": {},
   "outputs": [
    {
     "name": "stdout",
     "output_type": "stream",
     "text": [
      "Image dimensions: 550x467\n"
     ]
    }
   ],
   "source": [
    "img = Image.open('nhl_rinkk.png')\n",
    "width, height = img.size\n",
    "print(f'Image dimensions: {width}x{height}')"
   ]
  },
  {
   "cell_type": "code",
   "execution_count": null,
   "metadata": {},
   "outputs": [],
   "source": [
    "import matplotlib.pyplot as plt\n",
    "\n",
    "data=nhl_data_tr.copy()\n",
    "# Sample ice rink image (replace with your image)\n",
    "ice_rink_image_path = 'nhl_rinkk.png'  # Replace with your ice rink image\n",
    "\n",
    "# Load the ice rink image\n",
    "with open(ice_rink_image_path, \"rb\") as image_file:\n",
    "    encoded_image = base64.b64encode(image_file.read()).decode(\"utf-8\")\n",
    "\n",
    "# Create a function to generate the plot\n",
    "def generate_plot(selected_team, selected_season, selected_year):\n",
    "    team_filtered_data = data[(data['team.name'] == selected_team) &\n",
    "                         (data['Game_type'] == selected_season) &\n",
    "                         (data['about.dateTime'] == selected_year)]\n",
    "    \n",
    "    accrossteam_filtered_data = data[(data['Game_type'] == selected_season) & (data['about.dateTime'] == selected_year)]\n",
    "\n",
    "    \n",
    "    # Create a scatter plot\n",
    "    # plt.figure()\n",
    "    \n",
    "    # plt.scatter(filtered_data['coordinates.x'], filtered_data['coordinates.y'], c='red', marker='o', label='Shots')\n",
    "    # plt.legend()\n",
    "    # plt.title('Shot Map by Season')\n",
    "    # plt.xlabel('X Coordinate')\n",
    "    # plt.ylabel('Y Coordinate')\n",
    "    #plt.xlim(0, 90)  # Adjust the limits based on your data\n",
    "    #plt.ylim(-3.4, 100 - 3.4)   # Adjust the limits based on your data\n",
    "    \n",
    "    # Load the ice rink image as the background\n",
    "    img = Image.open(io.BytesIO(base64.b64decode(encoded_image)))\n",
    "    \n",
    "    plt.imshow(img, extent=[0, 100, 0, 90], zorder=0)\n",
    "\n",
    "    # Save the plot as a temporary image\n",
    "    output_buffer = io.BytesIO()\n",
    "    plt.savefig(output_buffer, format=\"png\")\n",
    "    output_buffer.seek(0)\n",
    "\n",
    "    return output_buffer\n",
    "\n",
    "# Create a Dash application\n",
    "app = dash.Dash(__name__)\n",
    "@app.callback(\n",
    "    Output('shot-map', 'src'),\n",
    "    [Input('team-dropdown', 'value'), Input('season-dropdown', 'value'), Input('year-dropdown', 'value')]\n",
    ")\n",
    "def update_plot(selected_team, selected_season,selected_year):\n",
    "    output_buffer = generate_plot(selected_team, selected_season,selected_year)\n",
    "    return f\"data:image/png;base64,{base64.b64encode(output_buffer.read()).decode('utf-8')}\"\n",
    "\n",
    "# Create dropdown menus for team, season, and year\n",
    "team_dropdown = dcc.Dropdown(\n",
    "    id='team-dropdown',\n",
    "    options=[{'label': team, 'value': team} for team in data['team.name'].unique()]\n",
    ")\n",
    "\n",
    "season_dropdown = dcc.Dropdown(\n",
    "    id='season-dropdown',\n",
    "    options=[{'label': season, 'value': season} for season in data['Game_type'].unique()],\n",
    "    value=data['Game_type'].unique()[0]\n",
    ")\n",
    "year_dropdown = dcc.Dropdown(\n",
    "    id='year-dropdown',\n",
    "    options=[{'label': year, 'value': year} for year in data['about.dateTime'].unique()],\n",
    "    value=data['about.dateTime'].unique()[0]\n",
    ")\n",
    "\n",
    "\n",
    "# Create the initial layout with dropdowns and the image\n",
    "app.layout = html.Div([\n",
    "    html.H1('NHL Shot Map'),\n",
    "    team_dropdown,\n",
    "    season_dropdown,\n",
    "    year_dropdown,\n",
    "    html.Img(id='shot-map')\n",
    "])\n",
    "\n",
    "if __name__ == '__main__':\n",
    "    app.run_server(debug=True)\n"
   ]
  }
 ],
 "metadata": {
  "kernelspec": {
   "display_name": "ift6758-conda-env",
   "language": "python",
   "name": "python3"
  },
  "language_info": {
   "codemirror_mode": {
    "name": "ipython",
    "version": 3
   },
   "file_extension": ".py",
   "mimetype": "text/x-python",
   "name": "python",
   "nbconvert_exporter": "python",
   "pygments_lexer": "ipython3",
   "version": "3.11.5"
  },
  "orig_nbformat": 4
 },
 "nbformat": 4,
 "nbformat_minor": 2
}
